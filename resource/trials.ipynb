{
 "cells": [
  {
   "cell_type": "code",
   "execution_count": null,
   "id": "35cf0e89",
   "metadata": {},
   "outputs": [],
   "source": [
    "from pathlib import Path\n",
    "\n",
    "data_dir = Path(\"../data\")\n",
    "file = data_dir / \"The-Gale-Encyclopedia-of-Medicine-3rd-Edition.pdf\""
   ]
  },
  {
   "cell_type": "code",
   "execution_count": 30,
   "id": "3abd5c3d",
   "metadata": {},
   "outputs": [],
   "source": [
    "from langchain.document_loaders import PyPDFLoader, DirectoryLoader\n",
    "from langchain.text_splitter import RecursiveCharacterTextSplitter\n",
    "\n",
    "def extract_text_from_pdf(path):\n",
    "    loader = DirectoryLoader(\n",
    "        path=path,\n",
    "        glob=\"*.pdf\",\n",
    "        loader_cls=PyPDFLoader \n",
    "    )\n",
    "\n",
    "    document = loader.load()\n",
    "\n",
    "    return document"
   ]
  },
  {
   "cell_type": "code",
   "execution_count": 31,
   "id": "6bb8d7bc",
   "metadata": {},
   "outputs": [],
   "source": [
    "extracted_data = extract_text_from_pdf(data_dir)"
   ]
  },
  {
   "cell_type": "code",
   "execution_count": 48,
   "id": "976b1520",
   "metadata": {},
   "outputs": [
    {
     "data": {
      "text/plain": [
       "Document(metadata={'producer': 'PDFlib+PDI 6.0.3 (SunOS)', 'creator': 'Adobe Acrobat 6.0', 'creationdate': '2006-10-16T20:19:33+02:00', 'moddate': '2006-10-16T22:03:45+02:00', 'source': '../data/The-Gale-Encyclopedia-of-Medicine-3rd-Edition.pdf', 'total_pages': 4505, 'page': 1, 'page_label': 'ii'}, page_content='The GALE\\nENCYCLOPEDIA of\\nMEDICINE\\nTHIRD EDITION')"
      ]
     },
     "execution_count": 48,
     "metadata": {},
     "output_type": "execute_result"
    }
   ],
   "source": [
    "extracted_data[1]"
   ]
  },
  {
   "cell_type": "code",
   "execution_count": 44,
   "id": "346f3ac5",
   "metadata": {},
   "outputs": [],
   "source": [
    "# only needs source & page_content\n",
    "\n",
    "from langchain.schema import Document\n",
    "\n",
    "\n",
    "def filter_source_and_page_content(docs):\n",
    "    filtered_docs: list[Document] = []\n",
    "\n",
    "    for doc in docs:\n",
    "        src = doc.metadata.get(\"source\")\n",
    "        filtered_docs.append(\n",
    "            Document(\n",
    "                metadata={\"source\": src},\n",
    "                page_content=doc.page_content\n",
    "            )\n",
    "        )\n",
    "    \n",
    "    return filtered_docs"
   ]
  },
  {
   "cell_type": "code",
   "execution_count": 46,
   "id": "6df63894",
   "metadata": {},
   "outputs": [
    {
     "data": {
      "text/plain": [
       "Document(metadata={'source': '../data/The-Gale-Encyclopedia-of-Medicine-3rd-Edition.pdf'}, page_content='The GALE\\nENCYCLOPEDIA of\\nMEDICINE\\nTHIRD EDITION')"
      ]
     },
     "execution_count": 46,
     "metadata": {},
     "output_type": "execute_result"
    }
   ],
   "source": [
    "filtered_docs = filter_source_and_page_content(extracted_data)\n",
    "filtered_docs[1]"
   ]
  }
 ],
 "metadata": {
  "kernelspec": {
   "display_name": "medbot",
   "language": "python",
   "name": "python3"
  },
  "language_info": {
   "codemirror_mode": {
    "name": "ipython",
    "version": 3
   },
   "file_extension": ".py",
   "mimetype": "text/x-python",
   "name": "python",
   "nbconvert_exporter": "python",
   "pygments_lexer": "ipython3",
   "version": "3.12.11"
  }
 },
 "nbformat": 4,
 "nbformat_minor": 5
}
