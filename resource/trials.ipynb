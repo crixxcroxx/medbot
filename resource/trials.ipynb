{
 "cells": [
  {
   "cell_type": "code",
   "execution_count": 4,
   "id": "35cf0e89",
   "metadata": {},
   "outputs": [],
   "source": [
    "from pathlib import Path\n",
    "\n",
    "data_dir = Path(\"../data\")\n",
    "file = data_dir / \"The-Gale-Encyclopedia-of-Medicine-3rd-Edition.pdf\""
   ]
  },
  {
   "cell_type": "code",
   "execution_count": 5,
   "id": "3abd5c3d",
   "metadata": {},
   "outputs": [],
   "source": [
    "from langchain.document_loaders import PyPDFLoader, DirectoryLoader\n",
    "\n",
    "def extract_text_from_pdf(path):\n",
    "    loader = DirectoryLoader(\n",
    "        path=path,\n",
    "        glob=\"*.pdf\",\n",
    "        loader_cls=PyPDFLoader \n",
    "    )\n",
    "\n",
    "    document = loader.load()\n",
    "\n",
    "    return document"
   ]
  },
  {
   "cell_type": "code",
   "execution_count": 6,
   "id": "6bb8d7bc",
   "metadata": {},
   "outputs": [],
   "source": [
    "# extracted_data = extract_text_from_pdf(data_dir)"
   ]
  },
  {
   "cell_type": "code",
   "execution_count": 7,
   "id": "976b1520",
   "metadata": {},
   "outputs": [],
   "source": [
    "# extracted_data[1]"
   ]
  },
  {
   "cell_type": "code",
   "execution_count": 8,
   "id": "346f3ac5",
   "metadata": {},
   "outputs": [],
   "source": [
    "# only needs source & page_content\n",
    "\n",
    "from langchain.schema import Document\n",
    "\n",
    "\n",
    "def filter_source_and_page_content(docs):\n",
    "    filtered_docs: list[Document] = []\n",
    "\n",
    "    for doc in docs:\n",
    "        src = doc.metadata.get(\"source\")\n",
    "        filtered_docs.append(\n",
    "            Document(\n",
    "                metadata={\"source\": src},\n",
    "                page_content=doc.page_content\n",
    "            )\n",
    "        )\n",
    "    \n",
    "    return filtered_docs"
   ]
  },
  {
   "cell_type": "code",
   "execution_count": 9,
   "id": "6df63894",
   "metadata": {},
   "outputs": [],
   "source": [
    "# filtered_docs = filter_source_and_page_content(extracted_data)\n",
    "# filtered_docs[1]"
   ]
  },
  {
   "cell_type": "code",
   "execution_count": 10,
   "id": "152efb87",
   "metadata": {},
   "outputs": [],
   "source": [
    "# from langchain.text_splitter import RecursiveCharacterTextSplitter\n",
    "\n",
    "# def chunk_content(doc):\n",
    "#     text_splitter = RecursiveCharacterTextSplitter(\n",
    "#         chunk_size=512,\n",
    "#         chunk_overlap=64,\n",
    "#         length_function=len\n",
    "#     )\n",
    "\n",
    "#     text_chunks = text_splitter.split_documents(doc)\n",
    "#     return text_chunks"
   ]
  },
  {
   "cell_type": "code",
   "execution_count": 11,
   "id": "11eeaf1a",
   "metadata": {},
   "outputs": [],
   "source": [
    "# text_chunks = chunk_content(filtered_docs)\n",
    "# len(text_chunks)"
   ]
  },
  {
   "cell_type": "code",
   "execution_count": 12,
   "id": "900811dd",
   "metadata": {},
   "outputs": [],
   "source": [
    "import torch\n",
    "\n",
    "DEVICE = \"cuda\" if torch.cuda.is_available() else \"cpu\""
   ]
  },
  {
   "cell_type": "code",
   "execution_count": 13,
   "id": "6fca4c7f",
   "metadata": {},
   "outputs": [],
   "source": [
    "from langchain_huggingface import HuggingFaceEmbeddings\n",
    "\n",
    "def download_embedding():\n",
    "    model_name = \"sentence-transformers/all-MiniLM-L6-v2\"\n",
    "    embeddings = HuggingFaceEmbeddings(\n",
    "        model_name=model_name,\n",
    "        model_kwargs={\"device\": DEVICE}\n",
    "    )\n",
    "\n",
    "    return embeddings"
   ]
  },
  {
   "cell_type": "code",
   "execution_count": 14,
   "id": "107b0f4d",
   "metadata": {},
   "outputs": [
    {
     "name": "stderr",
     "output_type": "stream",
     "text": [
      "/home/cr1xx/Documents/roadmap/medbot/.venv/lib/python3.12/site-packages/tqdm/auto.py:21: TqdmWarning: IProgress not found. Please update jupyter and ipywidgets. See https://ipywidgets.readthedocs.io/en/stable/user_install.html\n",
      "  from .autonotebook import tqdm as notebook_tqdm\n"
     ]
    }
   ],
   "source": [
    "embedding = download_embedding()"
   ]
  },
  {
   "cell_type": "code",
   "execution_count": 15,
   "id": "f047bbfc",
   "metadata": {},
   "outputs": [
    {
     "data": {
      "text/plain": [
       "384"
      ]
     },
     "execution_count": 15,
     "metadata": {},
     "output_type": "execute_result"
    }
   ],
   "source": [
    "vector = embedding.embed_query(\"hello world\")\n",
    "len(vector)"
   ]
  },
  {
   "cell_type": "code",
   "execution_count": 16,
   "id": "ae95b241",
   "metadata": {},
   "outputs": [
    {
     "data": {
      "text/plain": [
       "True"
      ]
     },
     "execution_count": 16,
     "metadata": {},
     "output_type": "execute_result"
    }
   ],
   "source": [
    "from dotenv import load_dotenv\n",
    "import os\n",
    "\n",
    "load_dotenv()"
   ]
  },
  {
   "cell_type": "code",
   "execution_count": null,
   "id": "4458516a",
   "metadata": {},
   "outputs": [],
   "source": [
    "PINECONE_API_KEY = os.getenv(\"PINECONE_API_KEY\")\n",
    "# OPENAI_API_KEY = os.getenv(\"OPENAI_API_KEY\")\n",
    "GROQ_API_KEY = os.getenv(\"GROQ_API_KEY\")\n",
    "\n",
    "os.environ[\"PINECONE_API_KEY\"] = PINECONE_API_KEY\n",
    "# os.environ[\"OPENAI_API_KEY\"] = OPENAI_API_KEY\n",
    "os.environ[\"GROQ_API_KEY\"] = GROQ_API_KEY\n",
    "\n",
    "if \"GROQ_API_KEY\" not in os.environ:\n",
    "    print(\"Please set the GROQ_API_KEY environment variable.\")\n",
    "    exit()"
   ]
  },
  {
   "cell_type": "code",
   "execution_count": 18,
   "id": "d5d89f4c",
   "metadata": {},
   "outputs": [],
   "source": [
    "from pinecone import Pinecone\n",
    "\n",
    "pc = Pinecone(api_key=PINECONE_API_KEY)"
   ]
  },
  {
   "cell_type": "code",
   "execution_count": 19,
   "id": "39bcbfba",
   "metadata": {},
   "outputs": [],
   "source": [
    "from pinecone import ServerlessSpec, CloudProvider, AwsRegion\n",
    "\n",
    "index_name = \"medbot\"\n",
    "\n",
    "if not pc.has_index(index_name):\n",
    "    pc.create_index(name=index_name,\n",
    "                    dimension=384,\n",
    "                    metric=\"cosine\",\n",
    "                    spec=ServerlessSpec(\n",
    "                        cloud=CloudProvider.AWS, \n",
    "                        region=AwsRegion.US_EAST_1 # pinecone free tier only have this region available\n",
    "                    ) \n",
    "    )\n",
    "\n",
    "index = pc.Index(index_name)"
   ]
  },
  {
   "cell_type": "code",
   "execution_count": 20,
   "id": "5e955e25",
   "metadata": {},
   "outputs": [],
   "source": [
    "# add embeddings to index\n",
    "\n",
    "# from langchain_pinecone import PineconeVectorStore\n",
    "\n",
    "# doc_search = PineconeVectorStore.from_documents(\n",
    "#     documents=text_chunks,\n",
    "#     embedding=embedding,\n",
    "#     index_name=index_name\n",
    "# )"
   ]
  },
  {
   "cell_type": "code",
   "execution_count": 21,
   "id": "630ff911",
   "metadata": {},
   "outputs": [],
   "source": [
    "# load existing index\n",
    "\n",
    "from langchain_pinecone import PineconeVectorStore\n",
    "\n",
    "doc_search = PineconeVectorStore.from_existing_index(\n",
    "    index_name=index_name,\n",
    "    embedding=embedding\n",
    ")"
   ]
  },
  {
   "cell_type": "code",
   "execution_count": 22,
   "id": "70d55671",
   "metadata": {},
   "outputs": [],
   "source": [
    "# add more data to existing index\n",
    "\n",
    "lorem = Document(\n",
    "    page_content=\"Lorem Ipsum is simply dummy text of the printing and typesetting industry. Lorem Ipsum has been the industry's standard dummy text ever since the 1500s, when an unknown printer took a galley of type and scrambled it to make a type specimen book. It has survived not only five centuries, but also the leap into electronic typesetting, remaining essentially unchanged. It was popularised in the 1960s with the release of Letraset sheets containing Lorem Ipsum passages, and more recently with desktop publishing software like Aldus PageMaker including versions of Lorem Ipsum.\",\n",
    "    metadata={\"source\": \"Lipsum\"}\n",
    ")\n",
    "\n",
    "# doc_search.add_documents(documents=[lorem,])"
   ]
  },
  {
   "cell_type": "code",
   "execution_count": 23,
   "id": "21126a9c",
   "metadata": {},
   "outputs": [],
   "source": [
    "retriever = doc_search.as_retriever(search_type=\"similarity\", search_kwargs={\"k\": 3}) # top 3"
   ]
  },
  {
   "cell_type": "code",
   "execution_count": 24,
   "id": "7f4ec78b",
   "metadata": {},
   "outputs": [
    {
     "data": {
      "text/plain": [
       "[Document(id='f3ad989f-2264-4c87-a3ef-0322b15a8f6e', metadata={'source': '../data/The-Gale-Encyclopedia-of-Medicine-3rd-Edition.pdf'}, page_content='pimples on the face, chest, and back. It occurs when\\nthe pores of the skin become clogged with oil, dead\\nskin cells, and bacteria.\\nDescription\\nAcne vulgaris, the medical term for common acne,\\nis the most common skin disease. It affects nearly 17\\nmillion people in the United States. While acne can\\narise at any age, it usually begins atpuberty and wor-\\nsens during adolescence. Nearly 85% of people\\ndevelop acne at some time between the ages of 12-25\\nyears. Up to 20% of women develop mild acne. It is'),\n",
       " Document(id='52392759-da58-4e47-b9cf-24b6fbb97f57', metadata={'source': '../data/The-Gale-Encyclopedia-of-Medicine-3rd-Edition.pdf'}, page_content='turnover (death and replacement) of skin cells.\\nAcne vulgaris affecting a woman’s face. Acne is the general\\nname given to a skin disorder in which the sebaceous glands\\nbecome inflamed. (Photograph by Biophoto Associates, Photo\\nResearchers, Inc. Reproduced by permission.)\\n26 GALE ENCYCLOPEDIA OF MEDICINE\\nAcne'),\n",
       " Document(id='cb1b7b5a-2372-4264-ba02-59a8d12d5724', metadata={'source': '../data/The-Gale-Encyclopedia-of-Medicine-3rd-Edition.pdf'}, page_content='different purposes. For example, lotions, soaps, gels,\\nand creams containing benzoyl peroxide or tretinoin\\nmay be used to clear up mild to moderately severe\\nacne. Isotretinoin (Accutane) is prescribed only for\\nvery severe, disfiguring acne.\\nAcne is a skin condition that occurs when pores or\\nhair follicles become blocked. This blockage allows a\\nwaxy material called sebum to collect inside the pores\\nor follicles. Normally, sebum flows out onto the skin\\n240 GALE ENCYCLOPEDIA OF MEDICINE\\nAntiacne drugs')]"
      ]
     },
     "execution_count": 24,
     "metadata": {},
     "output_type": "execute_result"
    }
   ],
   "source": [
    "retrieved_docs = retriever.invoke(\"What is acne?\")\n",
    "retrieved_docs"
   ]
  },
  {
   "cell_type": "code",
   "execution_count": 25,
   "id": "da7e6e4d",
   "metadata": {},
   "outputs": [],
   "source": [
    "from langchain_groq import ChatGroq\n",
    "\n",
    "chat_model = ChatGroq(model_name=\"groq/compound-mini\", temperature=0)"
   ]
  },
  {
   "cell_type": "code",
   "execution_count": 26,
   "id": "d828720f",
   "metadata": {},
   "outputs": [],
   "source": [
    "# from langchain_openai import ChatOpenAI\n",
    "\n",
    "# chat_model = ChatOpenAI(model=\"gpt-4o-mini\") # gpt-4o"
   ]
  },
  {
   "cell_type": "code",
   "execution_count": null,
   "id": "4c3f87b2",
   "metadata": {},
   "outputs": [],
   "source": [
    "from langchain_core.prompts import ChatPromptTemplate\n",
    "\n",
    "system_prompt = (\n",
    "    \"You are a medical assistant for question-answering tasks.\"\n",
    "    \"Use the following pieces of retrieved context to answer \"\n",
    "    \"the question. If you don't know the answer, say that you \"\n",
    "    \"don't know. Make you answer concise by having maximum of \"\n",
    "    \"three sentences.\" # limit \n",
    "    \"\\n\\n\"\n",
    "    \"{context}\"\n",
    ")\n",
    "\n",
    "prompt = ChatPromptTemplate.from_messages(\n",
    "    [\n",
    "        (\"system\", system_prompt),\n",
    "        (\"human\", \"{input}\"),\n",
    "    ]\n",
    ")"
   ]
  },
  {
   "cell_type": "code",
   "execution_count": 28,
   "id": "c1b6d4ad",
   "metadata": {},
   "outputs": [],
   "source": [
    "from langchain.chains.combine_documents import create_stuff_documents_chain\n",
    "from langchain.chains import create_retrieval_chain\n",
    "\n",
    "question_answer_chain = create_stuff_documents_chain(chat_model, prompt)\n",
    "rag_chain = create_retrieval_chain(retriever, question_answer_chain)"
   ]
  },
  {
   "cell_type": "code",
   "execution_count": 29,
   "id": "a3446364",
   "metadata": {},
   "outputs": [
    {
     "name": "stdout",
     "output_type": "stream",
     "text": [
      "To minimize acne flare-ups, gently wash affected areas once or twice a day with a non-abrasive cleanser. A diet rich in nutrients such as essential fatty acids, vitamin B complex, zinc, vitamin A, and chromium may also help. Additionally, consider Chinese herbal remedies like cnidium seed and honeysuckle flower, but consult a physician or nutritionist for proper amounts.\n"
     ]
    }
   ],
   "source": [
    "response = rag_chain.invoke({\"input\": \"Tips on preventing acne.\"})\n",
    "print(response[\"answer\"])"
   ]
  },
  {
   "cell_type": "code",
   "execution_count": null,
   "id": "4be56d85",
   "metadata": {},
   "outputs": [],
   "source": []
  }
 ],
 "metadata": {
  "kernelspec": {
   "display_name": "medbot",
   "language": "python",
   "name": "python3"
  },
  "language_info": {
   "codemirror_mode": {
    "name": "ipython",
    "version": 3
   },
   "file_extension": ".py",
   "mimetype": "text/x-python",
   "name": "python",
   "nbconvert_exporter": "python",
   "pygments_lexer": "ipython3",
   "version": "3.12.11"
  }
 },
 "nbformat": 4,
 "nbformat_minor": 5
}
